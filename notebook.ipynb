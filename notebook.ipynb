{
  "nbformat": 4,
  "nbformat_minor": 0,
  "metadata": {
    "colab": {
      "provenance": [],
      "gpuType": "T4"
    },
    "kernelspec": {
      "name": "python3",
      "display_name": "Python 3"
    },
    "language_info": {
      "name": "python"
    },
    "accelerator": "GPU"
  },
  "cells": [
    {
      "cell_type": "code",
      "execution_count": null,
      "metadata": {
        "id": "h9kCKa-XTnU1"
      },
      "outputs": [],
      "source": [
        "import torch\n",
        "import torch.nn as nn\n",
        "import torch.optim as optim\n",
        "import torchvision.transforms as transforms\n",
        "from torchvision.datasets import ImageFolder\n",
        "from torch.utils.data import DataLoader\n",
        "from torchvision.models import resnet50\n",
        "from sklearn.metrics import classification_report, confusion_matrix\n",
        "import matplotlib.pyplot as plt\n",
        "import seaborn as sns\n",
        "import os"
      ]
    },
    {
      "cell_type": "code",
      "source": [
        "device = torch.device(\"cuda\" if torch.cuda.is_available() else \"cpu\")"
      ],
      "metadata": {
        "id": "4RxEPh5UV-aO"
      },
      "execution_count": null,
      "outputs": []
    },
    {
      "cell_type": "code",
      "source": [
        "batch_size = 45\n",
        "num_epochs = 25\n",
        "learning_rate = 0.0001"
      ],
      "metadata": {
        "id": "ZieDM7RlWAIn"
      },
      "execution_count": null,
      "outputs": []
    },
    {
      "cell_type": "code",
      "source": [
        "# Data transforms\n",
        "transform = transforms.Compose([\n",
        "    transforms.Resize((224, 224)),\n",
        "    transforms.ToTensor(),\n",
        "    transforms.Normalize(mean=[0.485, 0.456, 0.406], std=[0.229, 0.224, 0.225])\n",
        "])"
      ],
      "metadata": {
        "id": "4nB_KCgvWDbx"
      },
      "execution_count": null,
      "outputs": []
    },
    {
      "cell_type": "code",
      "source": [
        "# Load training data\n",
        "train_path = \"/content/drive/MyDrive/cnn_brainscan/train\"  # Replace with your training data path\n",
        "train_dataset = ImageFolder(train_path, transform=transform)\n",
        "train_loader = DataLoader(train_dataset, batch_size=batch_size, shuffle=True)"
      ],
      "metadata": {
        "id": "3MTgjf1tWI-Y"
      },
      "execution_count": null,
      "outputs": []
    },
    {
      "cell_type": "code",
      "source": [
        "# Load test data\n",
        "test_path = \"/content/drive/MyDrive/cnn_brainscan/test\"  # Replace with your test data path\n",
        "test_dataset = ImageFolder(test_path, transform=transform)\n",
        "test_loader = DataLoader(test_dataset, batch_size=batch_size, shuffle=False)"
      ],
      "metadata": {
        "id": "E0FmXu-2WMzg"
      },
      "execution_count": null,
      "outputs": []
    },
    {
      "cell_type": "code",
      "source": [
        "# Model\n",
        "model = resnet50(pretrained=True)\n",
        "num_ftrs = model.fc.in_features\n",
        "model.fc = nn.Linear(num_ftrs, len(train_dataset.classes))\n",
        "model = model.to(device)"
      ],
      "metadata": {
        "id": "g0aPLYR_WadS",
        "colab": {
          "base_uri": "https://localhost:8080/"
        },
        "outputId": "a5b64e12-6920-4506-cca8-006c9cf455ea"
      },
      "execution_count": null,
      "outputs": [
        {
          "output_type": "stream",
          "name": "stderr",
          "text": [
            "/usr/local/lib/python3.10/dist-packages/torchvision/models/_utils.py:208: UserWarning: The parameter 'pretrained' is deprecated since 0.13 and may be removed in the future, please use 'weights' instead.\n",
            "  warnings.warn(\n",
            "/usr/local/lib/python3.10/dist-packages/torchvision/models/_utils.py:223: UserWarning: Arguments other than a weight enum or `None` for 'weights' are deprecated since 0.13 and may be removed in the future. The current behavior is equivalent to passing `weights=ResNet50_Weights.IMAGENET1K_V1`. You can also use `weights=ResNet50_Weights.DEFAULT` to get the most up-to-date weights.\n",
            "  warnings.warn(msg)\n",
            "Downloading: \"https://download.pytorch.org/models/resnet50-0676ba61.pth\" to /root/.cache/torch/hub/checkpoints/resnet50-0676ba61.pth\n",
            "100%|██████████| 97.8M/97.8M [00:00<00:00, 155MB/s]\n"
          ]
        }
      ]
    },
    {
      "cell_type": "code",
      "source": [
        "# Loss and optimizer\n",
        "criterion = nn.CrossEntropyLoss()\n",
        "optimizer = optim.Adam(model.parameters(), lr=learning_rate)"
      ],
      "metadata": {
        "id": "Px6da2QfWed0"
      },
      "execution_count": null,
      "outputs": []
    },
    {
      "cell_type": "code",
      "source": [
        "weights_dir = \"model_weights\"\n",
        "os.makedirs(weights_dir, exist_ok=True)"
      ],
      "metadata": {
        "id": "0UDIEEzjWjir"
      },
      "execution_count": null,
      "outputs": []
    },
    {
      "cell_type": "code",
      "source": [
        "# Training loop\n",
        "for epoch in range(num_epochs):\n",
        "    model.train()\n",
        "    running_loss = 0.0\n",
        "    for inputs, labels in train_loader:\n",
        "        inputs, labels = inputs.to(device), labels.to(device)\n",
        "\n",
        "        optimizer.zero_grad()\n",
        "        outputs = model(inputs)\n",
        "        loss = criterion(outputs, labels)\n",
        "        loss.backward()\n",
        "        optimizer.step()\n",
        "\n",
        "        running_loss += loss.item() * inputs.size(0)\n",
        "\n",
        "    epoch_loss = running_loss / len(train_dataset)\n",
        "    print(f\"Epoch {epoch+1}/{num_epochs}, Loss: {epoch_loss:.4f}\")\n",
        "\n",
        "    # Save model weights\n",
        "    torch.save(model.state_dict(), os.path.join(weights_dir, f\"model_epoch_{epoch+1}.pth\"))\n",
        "\n",
        "print(\"Training complete!\")"
      ],
      "metadata": {
        "id": "Vtlct418WkhY",
        "colab": {
          "base_uri": "https://localhost:8080/"
        },
        "outputId": "07d7b951-6b8b-4f1f-d27f-519805d5879e"
      },
      "execution_count": null,
      "outputs": [
        {
          "output_type": "stream",
          "name": "stdout",
          "text": [
            "Epoch 1/25, Loss: 0.6283\n",
            "Epoch 2/25, Loss: 0.1138\n",
            "Epoch 3/25, Loss: 0.0652\n",
            "Epoch 4/25, Loss: 0.0240\n",
            "Epoch 5/25, Loss: 0.0104\n",
            "Epoch 6/25, Loss: 0.0154\n",
            "Epoch 7/25, Loss: 0.0326\n",
            "Epoch 8/25, Loss: 0.0432\n",
            "Epoch 9/25, Loss: 0.0315\n",
            "Epoch 10/25, Loss: 0.0269\n",
            "Epoch 11/25, Loss: 0.0200\n",
            "Epoch 12/25, Loss: 0.0223\n",
            "Epoch 13/25, Loss: 0.0149\n",
            "Epoch 14/25, Loss: 0.0102\n",
            "Epoch 15/25, Loss: 0.0020\n",
            "Epoch 16/25, Loss: 0.0007\n",
            "Epoch 17/25, Loss: 0.0005\n",
            "Epoch 18/25, Loss: 0.0009\n",
            "Epoch 19/25, Loss: 0.0009\n",
            "Epoch 20/25, Loss: 0.0004\n",
            "Epoch 21/25, Loss: 0.0002\n",
            "Epoch 22/25, Loss: 0.0004\n",
            "Epoch 23/25, Loss: 0.0002\n",
            "Epoch 24/25, Loss: 0.0001\n",
            "Epoch 25/25, Loss: 0.0001\n",
            "Training complete!\n"
          ]
        }
      ]
    },
    {
      "cell_type": "code",
      "source": [
        "# Evaluation\n",
        "model.eval()\n",
        "all_preds = []\n",
        "all_labels = []"
      ],
      "metadata": {
        "id": "ivLAH_aFX3cA"
      },
      "execution_count": null,
      "outputs": []
    },
    {
      "cell_type": "code",
      "source": [
        "with torch.no_grad():\n",
        "    for inputs, labels in test_loader:\n",
        "        inputs, labels = inputs.to(device), labels.to(device)\n",
        "        outputs = model(inputs)\n",
        "        _, preds = torch.max(outputs, 1)\n",
        "        all_preds.extend(preds.cpu().numpy())\n",
        "        all_labels.extend(labels.cpu().numpy())"
      ],
      "metadata": {
        "id": "z7i-QP2KX4ZC"
      },
      "execution_count": null,
      "outputs": []
    },
    {
      "cell_type": "code",
      "source": [
        "# Performance metrics\n",
        "print(\"\\nClassification Report:\")\n",
        "print(classification_report(all_labels, all_preds, target_names=test_dataset.classes))"
      ],
      "metadata": {
        "id": "NEN0NZMbX7ui",
        "colab": {
          "base_uri": "https://localhost:8080/"
        },
        "outputId": "89cbe8f6-0d58-47d0-b5e3-6b65676b648a"
      },
      "execution_count": null,
      "outputs": [
        {
          "output_type": "stream",
          "name": "stdout",
          "text": [
            "\n",
            "Classification Report:\n",
            "                    precision    recall  f1-score   support\n",
            "\n",
            "     Mild_Demented       1.00      0.99      0.99       180\n",
            " Moderate_Demented       1.00      1.00      1.00        13\n",
            "      Non_Demented       0.99      1.00      0.99       640\n",
            "Very_Mild_Demented       0.99      0.99      0.99       448\n",
            "\n",
            "          accuracy                           0.99      1281\n",
            "         macro avg       1.00      0.99      0.99      1281\n",
            "      weighted avg       0.99      0.99      0.99      1281\n",
            "\n"
          ]
        }
      ]
    },
    {
      "cell_type": "code",
      "source": [
        "# Confusion Matrix\n",
        "cm = confusion_matrix(all_labels, all_preds)\n",
        "plt.figure(figsize=(10, 8))\n",
        "sns.heatmap(cm, annot=True, fmt='d', cmap='Blues', xticklabels=test_dataset.classes, yticklabels=test_dataset.classes)\n",
        "plt.title('Confusion Matrix')\n",
        "plt.xlabel('Predicted')\n",
        "plt.ylabel('True')\n",
        "plt.show()"
      ],
      "metadata": {
        "id": "E9VTU59JX_jD",
        "colab": {
          "base_uri": "https://localhost:8080/",
          "height": 718
        },
        "outputId": "3139e756-e5dc-4be1-f9b4-b2a229c46aba"
      },
      "execution_count": null,
      "outputs": [
        {
          "output_type": "display_data",
          "data": {
            "text/plain": [
              "<Figure size 1000x800 with 2 Axes>"
            ],
            "image/png": "[encoded data removed]"
          },
          "metadata": {}
        }
      ]
    },
    {
      "cell_type": "code",
      "source": [
        "# Accuracy\n",
        "accuracy = sum(1 for x, y in zip(all_preds, all_labels) if x == y) / len(all_labels)\n",
        "print(f\"\\nAccuracy: {accuracy:.4f}\")"
      ],
      "metadata": {
        "id": "RutiTnmKYDuP",
        "colab": {
          "base_uri": "https://localhost:8080/"
        },
        "outputId": "45894dbc-734f-4f69-ab5f-6cc59cce09f9"
      },
      "execution_count": null,
      "outputs": [
        {
          "output_type": "stream",
          "name": "stdout",
          "text": [
            "\n",
            "Accuracy: 0.9922\n"
          ]
        }
      ]
    }
  ]
}